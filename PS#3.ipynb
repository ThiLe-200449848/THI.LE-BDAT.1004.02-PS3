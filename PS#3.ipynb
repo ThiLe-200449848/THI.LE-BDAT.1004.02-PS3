{
 "cells": [
  {
   "cell_type": "markdown",
   "metadata": {},
   "source": [
    "# Question 1:"
   ]
  },
  {
   "cell_type": "markdown",
   "metadata": {},
   "source": [
    "import numpy as np\n",
    "\n",
    "\n",
    "import pandas as pd\n",
    "\n",
    "\n",
    "#document.write(Special thanks to: https://github.com/justmarkham for sharing the dataset and materials.)\n",
    "\n",
    "\n",
    "import 'https://raw.githubusercontent.com/justmarkham/DAT8/master/data/u.user'\n"
   ]
  },
  {
   "cell_type": "markdown",
   "metadata": {},
   "source": [
    "users = pd.read_csv('https://raw.githubusercontent.com/justmarkham/DAT8/master/data/u.user',sep='|',index='user_id')\n"
   ]
  },
  {
   "cell_type": "markdown",
   "metadata": {},
   "source": [
    "users.groupby['occupation'].mean('age')"
   ]
  },
  {
   "cell_type": "markdown",
   "metadata": {},
   "source": [
    "users_index.loc(['occupation','gender']).sort('gender',asceding=false)"
   ]
  },
  {
   "cell_type": "markdown",
   "metadata": {},
   "source": [
    "users.groupby(['occupation']).min('age')\n",
    "users.groupby(['occupation']).max('age')"
   ]
  },
  {
   "cell_type": "markdown",
   "metadata": {},
   "source": [
    "users.groupby(['occupation','gender']).mean('age')"
   ]
  },
  {
   "cell_type": "markdown",
   "metadata": {},
   "source": [
    "users_indexed('occupation').sort()\n",
    "\n",
    "def genderNumber(occupation):\n",
    "    genderNumber = users.groupby(['occupation']).count()\n",
    "        return genderNumber\n",
    "        \n",
    "def maleNumber(gender):\n",
    "    male = users.groupby.loc('M').count()\n",
    "        return male\n",
    "\n",
    "percentage = maleNumber(gender)/genderNumber(occupation)\n",
    "\n"
   ]
  },
  {
   "cell_type": "markdown",
   "metadata": {},
   "source": [
    "# Question 2:"
   ]
  },
  {
   "cell_type": "markdown",
   "metadata": {},
   "source": [
    "import numpy as np\n",
    "import functools\n",
    "import pandas as pd\n",
    "import 'https://raw.githubusercontent.com/guipsamora/pandas_exercises/master/02_Filtering_%26_Sorting/Euro12/Euro_2012_stats_TEAM.csv'"
   ]
  },
  {
   "cell_type": "markdown",
   "metadata": {},
   "source": [
    "euro12 = pd.read_csv('https://raw.githubusercontent.com/guipsamora/pandas_exercises/master/02_Filtering_%26_Sorting/Euro12/Euro_2012_stats_TEAM.csv')"
   ]
  },
  {
   "cell_type": "markdown",
   "metadata": {},
   "source": [
    "euro12_indexed=euro12.set_index('Team')\n",
    "goal=euro12_indexed.iloc([1])"
   ]
  },
  {
   "cell_type": "markdown",
   "metadata": {},
   "source": [
    "euro12('Team').count()"
   ]
  },
  {
   "cell_type": "markdown",
   "metadata": {},
   "source": [
    "euro12.columns"
   ]
  },
  {
   "cell_type": "markdown",
   "metadata": {},
   "source": [
    "discipline = dp.DataFrame(euro12,columns = [\"Team\",\"Yellow Cards\",\"Red Cards\"])"
   ]
  },
  {
   "cell_type": "markdown",
   "metadata": {},
   "source": [
    "euro12.loc(['Team','Red Cards','Yellow Cards']).sort(['Red Cards','Yellow Cards'])"
   ]
  },
  {
   "cell_type": "markdown",
   "metadata": {},
   "source": [
    "euro12.groupby(['Team']).mean('Yellow Cards')"
   ]
  },
  {
   "cell_type": "markdown",
   "metadata": {},
   "source": [
    "list(filter(lambda x: x>6,df['Goals']))"
   ]
  },
  {
   "cell_type": "markdown",
   "metadata": {},
   "source": [
    "euro12.loc(['Team']).startswith('G')\n",
    "\n",
    "#some methods here are solutions from: https://pandas.pydata.org/pandas-docs/stable/user_guide/indexing.html"
   ]
  },
  {
   "cell_type": "markdown",
   "metadata": {},
   "source": [
    "euro12.iloc[:6]"
   ]
  },
  {
   "cell_type": "markdown",
   "metadata": {},
   "source": [
    "euro12.iloc[0:-4]"
   ]
  },
  {
   "cell_type": "markdown",
   "metadata": {},
   "source": [
    "\n",
    "euro12['Shooting Accuracy'] = np.where(euro12['Team'] == 'England','Italy','Russia')"
   ]
  },
  {
   "cell_type": "markdown",
   "metadata": {},
   "source": [
    "# Question 3:"
   ]
  },
  {
   "cell_type": "markdown",
   "metadata": {},
   "source": [
    "import numpy as np\n",
    "import functools\n",
    "import pandas as pd"
   ]
  },
  {
   "cell_type": "markdown",
   "metadata": {},
   "source": [
    "Series1 = np.random.randint(1, 4, size=100)\n",
    "Series2 = np.random.randint(1, 3, size=100)\n",
    "Series1 = np.random.randint(10000, 30000, size=100)"
   ]
  },
  {
   "cell_type": "markdown",
   "metadata": {},
   "source": [
    "data = pd.DataFrame(['column1': Series1, 'column2':Series2,'column3':Series3 ])"
   ]
  },
  {
   "cell_type": "markdown",
   "metadata": {},
   "source": [
    "data.rename({\"column1\": \"bedrs\", \"column2\": \"bathrs\", \"column3\": \"price_sqr_meter\"}, axis=\"columns\")"
   ]
  },
  {
   "cell_type": "markdown",
   "metadata": {},
   "source": [
    "bigcolumn = pd.DataFrame(df.apply(lambda x: x['bedrs']+x['bathrs']+x['price_sqr_meter'],axis=1))"
   ]
  },
  {
   "cell_type": "markdown",
   "metadata": {},
   "source": [
    "bigcolumn.index"
   ]
  },
  {
   "cell_type": "markdown",
   "metadata": {},
   "source": [
    "bigcolumn.reindex(bigcolumn.index)"
   ]
  },
  {
   "cell_type": "markdown",
   "metadata": {},
   "source": [
    "# Question 4:"
   ]
  },
  {
   "cell_type": "markdown",
   "metadata": {},
   "source": [
    "import numpy as np\n",
    "\n",
    "import functools\n",
    "\n",
    "import pandas as pd\n",
    "\n",
    "import 'https://raw.githubusercontent.com/guipsamora/pandas_exercises/master/06_Stats/Wind_Stats/wind.data'\n",
    "\n",
    "#the solutions are applied as Pandas guide at: https://pandas.pydata.org/pandas-docs/stable/user_guide/timeseries.html"
   ]
  },
  {
   "cell_type": "markdown",
   "metadata": {},
   "source": [
    "data = pd.read_csv('https://raw.githubusercontent.com/guipsamora/pandas_exercises/master/06_Stats/Wind_Stats/wind.data',index=(['Yr','Mo','Dy']))"
   ]
  },
  {
   "cell_type": "markdown",
   "metadata": {},
   "source": [
    "import datetime\n",
    "\n",
    "data_indexed = pd.to_datetime(data.iloc([0:2]))\n"
   ]
  },
  {
   "cell_type": "markdown",
   "metadata": {},
   "source": [
    "data['Yr']=df['Yr'].apply(lambda x: x=<2021)"
   ]
  },
  {
   "cell_type": "markdown",
   "metadata": {},
   "source": [
    "data_indexed = data.set_index(pd.to_datetime([{\"Yr\",\"Mo\",\"Dy\"}, np.datetime64({\"Yr\",\"Mo\",\"Dy\"}), datetime.datetime({\"Yr\",\"Mo\",\"Dy\"})])\n",
    "    "
   ]
  },
  {
   "cell_type": "markdown",
   "metadata": {},
   "source": [
    "data.loc[lamda s: s = NaN].count()\n",
    "    "
   ]
  },
  {
   "cell_type": "markdown",
   "metadata": {},
   "source": [
    "Non_missing_data = data.loc[lamda s: s !=NaN].count()\n",
    "Non_missing_data.sum()"
   ]
  },
  {
   "cell_type": "markdown",
   "metadata": {},
   "source": [
    "data = data.iloc[:,dtype=pd.Int64Dtype].mean()"
   ]
  },
  {
   "cell_type": "markdown",
   "metadata": {},
   "source": [
    "loc_stats = pd.DataFrame(data)\n",
    "\n",
    "loc_stats[3:].min()\n",
    "\n",
    "loc_stats[3:].max()\n",
    "\n",
    "loc_stats[3:].mean()\n",
    "\n",
    "i = 3\n",
    "\n",
    "for i in loc_stats.length():\n",
    "    deviation = loc_stats([i:],lamda x: x - loc_stats[i:].mean())\n",
    "    \n",
    "    return deviation"
   ]
  },
  {
   "cell_type": "markdown",
   "metadata": {},
   "source": [
    "day_stats = pd.DataFrame(data)\n",
    "\n",
    "day_stats(['day_min']) = day_stats.index.min()\n",
    "\n",
    "day_stats(['day_max']) = day_stats.index.max()\n",
    "\n",
    "day_stats(['day_mean']) = day_stats.index.mean()\n",
    "\n",
    "deviation = day_stats.index([:], lamda x: x-(day_stats.loc.mean()))\n"
   ]
  },
  {
   "cell_type": "markdown",
   "metadata": {},
   "source": [
    "loc_stats.loc([:], lamda x: x['Mo']=1).mean()"
   ]
  },
  {
   "cell_type": "markdown",
   "metadata": {},
   "source": [
    "index = pd.date_range('2/1/1961',freq=['Yr','Mo','Dy'])\n",
    "series = pd.data(range(9), index=index)\n"
   ]
  },
  {
   "cell_type": "markdown",
   "metadata": {},
   "source": [
    "year_downsample = series.resample('yearly')"
   ]
  },
  {
   "cell_type": "markdown",
   "metadata": {},
   "source": [
    "month_downsample = series.resample('monthly')"
   ]
  },
  {
   "cell_type": "markdown",
   "metadata": {},
   "source": [
    "week_downsample = series.resample('weekly')"
   ]
  },
  {
   "cell_type": "markdown",
   "metadata": {},
   "source": [
    "week_downsample = series.resample('weekly').min()"
   ]
  },
  {
   "cell_type": "markdown",
   "metadata": {},
   "source": [
    "week_downsample = series.resample('weekly').max()"
   ]
  },
  {
   "cell_type": "markdown",
   "metadata": {},
   "source": [
    "week_downsample = series.resample('weekly').mean()"
   ]
  },
  {
   "cell_type": "markdown",
   "metadata": {},
   "source": [
    "week_deviation = series.loc(lamda x: x-(series.loc.mean()).resample('weekly')"
   ]
  },
  {
   "cell_type": "markdown",
   "metadata": {},
   "source": [
    "# Question 5:"
   ]
  },
  {
   "cell_type": "markdown",
   "metadata": {},
   "source": [
    "import numpy as np\n",
    "\n",
    "import functools\n",
    "\n",
    "import pandas as pd\n",
    "\n",
    "import 'https://raw.githubusercontent.com/justmarkham/DAT8/master/data/chipotle.tsv'\n",
    "\n",
    "#the solutions are applied as Pandas guide at: https://pandas.pydata.org/pandas-docs/stable/user_guide/timeseries.html"
   ]
  },
  {
   "cell_type": "markdown",
   "metadata": {},
   "source": [
    "chipo = pd.read_csv('https://raw.githubusercontent.com/justmarkham/DAT8/master/data/chipotle.tsv')"
   ]
  },
  {
   "cell_type": "markdown",
   "metadata": {},
   "source": [
    "chipo.head(10) #see first 10 entries"
   ]
  },
  {
   "cell_type": "markdown",
   "metadata": {},
   "source": [
    "chipo.shape[0] #number of observation"
   ]
  },
  {
   "cell_type": "markdown",
   "metadata": {},
   "source": [
    "chipo.shape[1] #number of columns"
   ]
  },
  {
   "cell_type": "markdown",
   "metadata": {},
   "source": [
    "chipo.columns #name of comlumns"
   ]
  },
  {
   "cell_type": "markdown",
   "metadata": {},
   "source": [
    "chipo.index #dataset index"
   ]
  },
  {
   "cell_type": "markdown",
   "metadata": {},
   "source": [
    "mostOrders = chipo.loc('item_name').max() #most order items"
   ]
  },
  {
   "cell_type": "markdown",
   "metadata": {},
   "source": [
    "totalOrderMost=chipo(mostOrders).sum('quantity') #total items were ordered most"
   ]
  },
  {
   "cell_type": "markdown",
   "metadata": {},
   "source": [
    "MostOrders = chipo.loc('choice_description').max()"
   ]
  },
  {
   "cell_type": "markdown",
   "metadata": {},
   "source": [
    "pd.pivot_table(chipo,'item_name').sum()"
   ]
  },
  {
   "cell_type": "markdown",
   "metadata": {},
   "source": [
    "pd.read_csv(chipo, converters={\"item_price\": float64})"
   ]
  },
  {
   "cell_type": "markdown",
   "metadata": {},
   "source": [
    "chipo[\"item_price\"].apply(type).value_counts()"
   ]
  },
  {
   "cell_type": "markdown",
   "metadata": {},
   "source": [
    "pd.read_csv(chipo, lamda x: x[converters={\"item_price\": float64}]"
   ]
  },
  {
   "cell_type": "markdown",
   "metadata": {},
   "source": [
    "chipo.select_dtypes(include=['float64'])"
   ]
  },
  {
   "cell_type": "markdown",
   "metadata": {},
   "source": [
    "pd.pivot_table(chipo, lamda x: x='item_price'*'quatity').sum()"
   ]
  },
  {
   "cell_type": "markdown",
   "metadata": {},
   "source": [
    "pd.pivot_table(chipo, 'quatity').sum()"
   ]
  },
  {
   "cell_type": "markdown",
   "metadata": {},
   "source": [
    "pd.pivot_table(chipo, 'order_id', lamda x: x='item_price'*'quatity').average()"
   ]
  },
  {
   "cell_type": "markdown",
   "metadata": {},
   "source": [
    "pd.pivot_table(chipo, 'item_name').count()"
   ]
  },
  {
   "cell_type": "markdown",
   "metadata": {},
   "source": [
    "# Question 6: "
   ]
  },
  {
   "cell_type": "markdown",
   "metadata": {},
   "source": [
    "import pandas as pd \n",
    "\n",
    "import numpy as np \n",
    "\n",
    "from plotly.offline import init_notebook_mode, iplot, plot\n",
    "\n",
    "import plotly as py\n",
    "\n",
    "init_notebook_mode(connected=True)\n",
    "\n",
    "import plotly.graph_objs as gos\n",
    "\n",
    "from wordcloud import WordCloud \n",
    "\n",
    "import matplotlib.pyplot as plt\n"
   ]
  },
  {
   "cell_type": "markdown",
   "metadata": {},
   "source": [
    "filename = 'C:\\Users\\Thi\\Documents\\BDAT 2021\\BDAT 1004 Data Programming\\w11\\state-marriage-divorce.xlsx'\n",
    "df = de.read_csv(filename)\n"
   ]
  },
  {
   "cell_type": "markdown",
   "metadata": {},
   "source": [
    "\n",
    "df = filename.iloc()\n",
    "\n",
    "import plotly.graph_objs as go\n",
    "\n",
    "trace1 = go.Scatter(\n",
    "                    x = df.states,\n",
    "                    y = df.Divorce,\n",
    "                    mode = \"lines\",\n",
    "                    name = \"Divorce between 1867 & 2014\",\n",
    "                    marker = dict(color = 'rgba(16, 112, 2, 0.8)'),\n",
    "                    text= df.states)\n",
    "\n",
    "\n",
    "trace2 = go.Scatter(\n",
    "                    x = df.states,\n",
    "                    y = df.Marriage,\n",
    "                    mode = \"lines\",\n",
    "                    name = \"Marriage between 1867 & 2014\",\n",
    "                    marker = dict(color = 'rgba(80, 26, 80, 0.8)'),\n",
    "                    text= df.states)\n",
    "\n",
    "data = [trace1, trace2]\n",
    "\n",
    "layout = dict(title = 'Number of Marriages and Divorces in the US between 1867 & 2014',\n",
    "              xaxis = dict(title= 'States in US',ticklen= 5,zeroline= False),\n",
    "              yaxis = dict(title= 'Number of Divorce & Marriage',ticklen= 5,zeroline= False)\n",
    "             )\n",
    "             \n",
    "plt.legend(loc=(1.02,0))\n",
    "\n",
    "fig = dict(data = data, layout = layout)\n",
    "\n",
    "iplot(fig)"
   ]
  },
  {
   "cell_type": "markdown",
   "metadata": {},
   "source": [
    "# Question 7: "
   ]
  },
  {
   "cell_type": "markdown",
   "metadata": {},
   "source": [
    "\n",
    "dfMD = filename[filename.marriage_2000_1950.sort(ascending = false)].iloc[:3,:]\n",
    "\n",
    "import plotly.graph_objs as go\n",
    "\n",
    "trace1 = go.Bar(\n",
    "                x = dfMD.states,\n",
    "                y = dfMD.marriage_1950_1900,\n",
    "                name = \"Marriage between 1950 and 1900\",\n",
    "                marker = dict(color = 'rgba(255, 174, 255, 0.5)',\n",
    "                             line=dict(color='rgb(0,0,0)',width=1.5)),\n",
    "                text = dfMD.states)\n",
    "\n",
    "trace2 = go.Bar(\n",
    "                x = dfMD.states,\n",
    "                y = dfMD.devorce_1950_1900,\n",
    "                name = \"Divorce between 1950 and 1900\",\n",
    "                marker = dict(color = 'rgba(255, 255, 128, 0.5)',\n",
    "                              line=dict(color='rgb(0,0,0)',width=1.5)),\n",
    "                text = dfMD.states)\n",
    "\n",
    "trace3 = go.Bar(\n",
    "                x = dfMD.states,\n",
    "                y = dfMD.marriage_2000_1950,\n",
    "                name = \"Marriage between 2000 and 1950\",\n",
    "                marker = dict(color = 'rgba(16, 112, 2, 0.8)'),\n",
    "                             line=dict(color='rgb(0,0,0)',width=1.5)),\n",
    "                text = dfMD.states)\n",
    "\n",
    "trace4 = go.Bar(\n",
    "                x = dfMD.states,\n",
    "                y = dfMD.devorce_2000_1950,\n",
    "                name = \"Divorce between 2000 and 1950\",\n",
    "                marker = dict(color = 'rgba(80, 26, 80, 0.8),\n",
    "                              line=dict(color='rgb(0,0,0)',width=1.5)),\n",
    "                text = dfMD.states)\n",
    "\n",
    "data = [trace1, trace2,trace3,trace4]\n",
    "\n",
    "\n",
    "layout = dict(title = 'Number of Marriages and Divorces in the US between 1900 - 1950 - 2000',\n",
    "              xaxis = dict(title= 'States in US',ticklen= 5,zeroline= False),\n",
    "              yaxis = dict(title= 'Number of Divorce & Marriage',ticklen= 5,zeroline= False)\n",
    "             )\n",
    "\n",
    "plt.legend(loc=(1.02,0))\n",
    "\n",
    "fig = go.Figure(data = data, layout = layout)\n",
    "\n",
    "iplot(fig)\n"
   ]
  },
  {
   "cell_type": "markdown",
   "metadata": {},
   "source": [
    "# Question 8: "
   ]
  },
  {
   "cell_type": "markdown",
   "metadata": {},
   "source": [
    "import pandas as pd \n",
    "import matplotlib.pyplot as plt\n",
    "%matplotlib inline\n"
   ]
  },
  {
   "cell_type": "markdown",
   "metadata": {},
   "source": [
    "\n",
    "actors = pd.read_csv('deadliest_actors_Hollywood.csv', names=['Order', 'Name Actors', 'Kill Counts'])\n"
   ]
  },
  {
   "cell_type": "markdown",
   "metadata": {},
   "source": [
    "\n",
    "colours = ['#C4E57D','#2AC280','#FFAE39','#DC5B3B','#52E397','#C5CBA3','#9CD5F6','#6E50D9','#9A5E59','#9BC8F5','#0BBC66',\n",
    "           '#FF3D52','#3B19CE','#25974F','#1EAD79','#375E4C','#43C711','#A4CCD9','#AFF373','#392D6A','#792D86','#9CA54B',\n",
    "           '#7F03BE','#D5EC95','#FCE2A5']\n",
    "\n",
    "\n",
    "actors['Name_Actors'].actors['Kill_Counts'].plot.barh(color=colors).hist(title=\"The Deadliest Actors in Hollywood\").hist(axes=\"Actor Names\")"
   ]
  },
  {
   "cell_type": "markdown",
   "metadata": {},
   "source": [
    "# Question 9: "
   ]
  },
  {
   "cell_type": "markdown",
   "metadata": {},
   "source": [
    "import numpy as np \n",
    "\n",
    "import pandas as pd \n",
    "\n",
    "import plotly.graph_objs as go\n",
    "\n",
    "from plotly.offline import init_notebook_mode, iplot, plot\n",
    "\n",
    "import plotly as py\n",
    "\n",
    "init_notebook_mode(connected=True)\n",
    "\n",
    "from wordcloud import WordCloud \n",
    "\n",
    "import matplotlib.pyplot as plt"
   ]
  },
  {
   "cell_type": "markdown",
   "metadata": {},
   "source": [
    "\n",
    "EmperorsList = pd.read_csv(\"Roman_Emperors.csv\")\n",
    "\n",
    "Emperors = 'Roman_Emperors[Roman_Emperors.year <= 100].iloc()'\n",
    "\n",
    "pie1 = Emperors.reason.count()\n",
    "\n",
    "pie1_list = [int(each.replace(',', '.')) for each in Emperors.reason.count()]  \n",
    "\n",
    "labels = Emperors.name\n",
    "\n",
    "\n",
    "fig = {\n",
    "\n",
    "\"data\": [\n",
    "    {\n",
    "      \"values\": pie1_list,\n",
    "      \"labels\": labels,\n",
    "      \"domain\": {\"x\": [.2, .5]},\n",
    "      \"name\": \"Number Of Emperors were assassinaged\",\n",
    "      \"hoverinfo\":\"label+percent+name\",\n",
    "      \"hole\": .3,\n",
    "      \"type\": \"pie\"\n",
    "    },],\n",
    "\n",
    "\"layout\": {\n",
    "        \"title\":\"Percentage of Emperors were assassinaged before year 100AD\",\n",
    "        \"annotations\": [\n",
    "            { \"font\": { \"size\": 20},\n",
    "              \"showarrow\": False,\n",
    "              \"text\": \"Number of Assassinaged\",\n",
    "                \"x\": 0.20,\n",
    "                \"y\": 1\n",
    "            \n",
    "             \n",
    "            },\n",
    "        ]\n",
    "    }\n",
    "}\n",
    "\n",
    "iplot(fig)"
   ]
  },
  {
   "cell_type": "markdown",
   "metadata": {},
   "source": [
    "# Question 10: "
   ]
  },
  {
   "cell_type": "markdown",
   "metadata": {},
   "source": [
    "import matplotlib.pyplot as plt\n",
    "%matplotlib inline\n",
    "import pandas as pd "
   ]
  },
  {
   "cell_type": "markdown",
   "metadata": {},
   "source": [
    "awarded = pd.read_csv('CSD awarded.csv', names=['Desc.','2000','2009'])\n",
    "awarded.head()"
   ]
  },
  {
   "cell_type": "markdown",
   "metadata": {},
   "source": [
    "ax.scatter(awarded['2000'], iris['2009'])"
   ]
  },
  {
   "cell_type": "markdown",
   "metadata": {},
   "source": [
    "colors = {'2000':'r', '2009':'b'}"
   ]
  },
  {
   "cell_type": "markdown",
   "metadata": {},
   "source": [
    "fig, ax = plt.subplots()"
   ]
  },
  {
   "cell_type": "markdown",
   "metadata": {},
   "source": [
    "for i in range(len(awarded['2000'])):\n",
    "    ax.scatter(awarded['2000'][i], awarded['2009'][i],color=colors[awarded[i:i]])"
   ]
  },
  {
   "cell_type": "markdown",
   "metadata": {},
   "source": [
    "ax.set_title('The relationship between the total revenue earned by arcades & the number of CDS PhDs awarded')\n",
    "ax.set_xlabel('year')\n",
    "ax.set_ylabel('number of revenue and CDS awarded')"
   ]
  }
 ],
 "metadata": {
  "kernelspec": {
   "display_name": "Python 3",
   "language": "python",
   "name": "python3"
  },
  "language_info": {
   "codemirror_mode": {
    "name": "ipython",
    "version": 3
   },
   "file_extension": ".py",
   "mimetype": "text/x-python",
   "name": "python",
   "nbconvert_exporter": "python",
   "pygments_lexer": "ipython3",
   "version": "3.8.5"
  }
 },
 "nbformat": 4,
 "nbformat_minor": 4
}
